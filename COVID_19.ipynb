{
 "metadata": {
  "language_info": {
   "codemirror_mode": {
    "name": "ipython",
    "version": 3
   },
   "file_extension": ".py",
   "mimetype": "text/x-python",
   "name": "python",
   "nbconvert_exporter": "python",
   "pygments_lexer": "ipython3",
   "version": "3.8.2-final"
  },
  "orig_nbformat": 2,
  "kernelspec": {
   "name": "Python 3.8.2 32-bit",
   "display_name": "Python 3.8.2 32-bit",
   "metadata": {
    "interpreter": {
     "hash": "089b5838ea7fe4890ebcaaa7ff99a92fd6a689e6f57d8cfbf35f0fec5c9b55f4"
    }
   }
  }
 },
 "nbformat": 4,
 "nbformat_minor": 2,
 "cells": [
  {
   "cell_type": "code",
   "execution_count": 84,
   "metadata": {
    "tags": []
   },
   "outputs": [
    {
     "output_type": "stream",
     "name": "stdout",
     "text": "Requirement already satisfied: pandas in c:\\users\\aviparna.biswas\\appdata\\local\\programs\\python\\python38-32\\lib\\site-packages (1.0.4)\nRequirement already satisfied: pytz>=2017.2 in c:\\users\\aviparna.biswas\\appdata\\local\\programs\\python\\python38-32\\lib\\site-packages (from pandas) (2018.5)\nRequirement already satisfied: numpy>=1.13.3 in c:\\users\\aviparna.biswas\\appdata\\local\\programs\\python\\python38-32\\lib\\site-packages (from pandas) (1.18.5)\nRequirement already satisfied: python-dateutil>=2.6.1 in c:\\users\\aviparna.biswas\\appdata\\local\\programs\\python\\python38-32\\lib\\site-packages (from pandas) (2.8.1)\nRequirement already satisfied: six>=1.5 in c:\\users\\aviparna.biswas\\appdata\\local\\programs\\python\\python38-32\\lib\\site-packages (from python-dateutil>=2.6.1->pandas) (1.14.0)\n"
    }
   ],
   "source": [
    "!pip install pandas\n",
    "import pandas as pd"
   ]
  },
  {
   "cell_type": "code",
   "execution_count": 85,
   "metadata": {
    "tags": []
   },
   "outputs": [
    {
     "output_type": "stream",
     "name": "stdout",
     "text": "Requirement already satisfied: requests in c:\\users\\aviparna.biswas\\appdata\\local\\programs\\python\\python38-32\\lib\\site-packages (2.23.0)\nRequirement already satisfied: certifi>=2017.4.17 in c:\\users\\aviparna.biswas\\appdata\\local\\programs\\python\\python38-32\\lib\\site-packages (from requests) (2020.4.5.1)\nRequirement already satisfied: urllib3!=1.25.0,!=1.25.1,<1.26,>=1.21.1 in c:\\users\\aviparna.biswas\\appdata\\local\\programs\\python\\python38-32\\lib\\site-packages (from requests) (1.25.8)\nRequirement already satisfied: chardet<4,>=3.0.2 in c:\\users\\aviparna.biswas\\appdata\\local\\programs\\python\\python38-32\\lib\\site-packages (from requests) (3.0.4)\nRequirement already satisfied: idna<3,>=2.5 in c:\\users\\aviparna.biswas\\appdata\\local\\programs\\python\\python38-32\\lib\\site-packages (from requests) (2.9)\n"
    }
   ],
   "source": [
    "!pip install requests\n",
    "import requests"
   ]
  },
  {
   "source": [
    "Step 1: Data Collection"
   ],
   "cell_type": "markdown",
   "metadata": {}
  },
  {
   "cell_type": "code",
   "execution_count": 86,
   "metadata": {},
   "outputs": [
    {
     "output_type": "execute_result",
     "data": {
      "text/plain": "         dateRep  day  month  year  cases  deaths countriesAndTerritories  \\\n0     2020-09-29   29      9  2020     12       3             Afghanistan   \n1     2020-09-28   28      9  2020      0       0             Afghanistan   \n2     2020-09-27   27      9  2020     35       0             Afghanistan   \n3     2020-09-26   26      9  2020      6       2             Afghanistan   \n4     2020-09-25   25      9  2020     16       0             Afghanistan   \n...          ...  ...    ...   ...    ...     ...                     ...   \n45803 2020-03-25   25      3  2020      0       0                Zimbabwe   \n45804 2020-03-24   24      3  2020      0       1                Zimbabwe   \n45805 2020-03-23   23      3  2020      0       0                Zimbabwe   \n45806 2020-03-22   22      3  2020      1       0                Zimbabwe   \n45807 2020-03-21   21      3  2020      1       0                Zimbabwe   \n\n      geoId countryterritoryCode  popData2019 continentExp  \\\n0        AF                  AFG   38041757.0         Asia   \n1        AF                  AFG   38041757.0         Asia   \n2        AF                  AFG   38041757.0         Asia   \n3        AF                  AFG   38041757.0         Asia   \n4        AF                  AFG   38041757.0         Asia   \n...     ...                  ...          ...          ...   \n45803    ZW                  ZWE   14645473.0       Africa   \n45804    ZW                  ZWE   14645473.0       Africa   \n45805    ZW                  ZWE   14645473.0       Africa   \n45806    ZW                  ZWE   14645473.0       Africa   \n45807    ZW                  ZWE   14645473.0       Africa   \n\n       Cumulative_number_for_14_days_of_COVID-19_cases_per_100000  \n0                                               1.114565           \n1                                               1.343261           \n2                                               1.540413           \n3                                               1.540413           \n4                                               1.614016           \n...                                                  ...           \n45803                                                NaN           \n45804                                                NaN           \n45805                                                NaN           \n45806                                                NaN           \n45807                                                NaN           \n\n[45808 rows x 12 columns]",
      "text/html": "<div>\n<style scoped>\n    .dataframe tbody tr th:only-of-type {\n        vertical-align: middle;\n    }\n\n    .dataframe tbody tr th {\n        vertical-align: top;\n    }\n\n    .dataframe thead th {\n        text-align: right;\n    }\n</style>\n<table border=\"1\" class=\"dataframe\">\n  <thead>\n    <tr style=\"text-align: right;\">\n      <th></th>\n      <th>dateRep</th>\n      <th>day</th>\n      <th>month</th>\n      <th>year</th>\n      <th>cases</th>\n      <th>deaths</th>\n      <th>countriesAndTerritories</th>\n      <th>geoId</th>\n      <th>countryterritoryCode</th>\n      <th>popData2019</th>\n      <th>continentExp</th>\n      <th>Cumulative_number_for_14_days_of_COVID-19_cases_per_100000</th>\n    </tr>\n  </thead>\n  <tbody>\n    <tr>\n      <th>0</th>\n      <td>2020-09-29</td>\n      <td>29</td>\n      <td>9</td>\n      <td>2020</td>\n      <td>12</td>\n      <td>3</td>\n      <td>Afghanistan</td>\n      <td>AF</td>\n      <td>AFG</td>\n      <td>38041757.0</td>\n      <td>Asia</td>\n      <td>1.114565</td>\n    </tr>\n    <tr>\n      <th>1</th>\n      <td>2020-09-28</td>\n      <td>28</td>\n      <td>9</td>\n      <td>2020</td>\n      <td>0</td>\n      <td>0</td>\n      <td>Afghanistan</td>\n      <td>AF</td>\n      <td>AFG</td>\n      <td>38041757.0</td>\n      <td>Asia</td>\n      <td>1.343261</td>\n    </tr>\n    <tr>\n      <th>2</th>\n      <td>2020-09-27</td>\n      <td>27</td>\n      <td>9</td>\n      <td>2020</td>\n      <td>35</td>\n      <td>0</td>\n      <td>Afghanistan</td>\n      <td>AF</td>\n      <td>AFG</td>\n      <td>38041757.0</td>\n      <td>Asia</td>\n      <td>1.540413</td>\n    </tr>\n    <tr>\n      <th>3</th>\n      <td>2020-09-26</td>\n      <td>26</td>\n      <td>9</td>\n      <td>2020</td>\n      <td>6</td>\n      <td>2</td>\n      <td>Afghanistan</td>\n      <td>AF</td>\n      <td>AFG</td>\n      <td>38041757.0</td>\n      <td>Asia</td>\n      <td>1.540413</td>\n    </tr>\n    <tr>\n      <th>4</th>\n      <td>2020-09-25</td>\n      <td>25</td>\n      <td>9</td>\n      <td>2020</td>\n      <td>16</td>\n      <td>0</td>\n      <td>Afghanistan</td>\n      <td>AF</td>\n      <td>AFG</td>\n      <td>38041757.0</td>\n      <td>Asia</td>\n      <td>1.614016</td>\n    </tr>\n    <tr>\n      <th>...</th>\n      <td>...</td>\n      <td>...</td>\n      <td>...</td>\n      <td>...</td>\n      <td>...</td>\n      <td>...</td>\n      <td>...</td>\n      <td>...</td>\n      <td>...</td>\n      <td>...</td>\n      <td>...</td>\n      <td>...</td>\n    </tr>\n    <tr>\n      <th>45803</th>\n      <td>2020-03-25</td>\n      <td>25</td>\n      <td>3</td>\n      <td>2020</td>\n      <td>0</td>\n      <td>0</td>\n      <td>Zimbabwe</td>\n      <td>ZW</td>\n      <td>ZWE</td>\n      <td>14645473.0</td>\n      <td>Africa</td>\n      <td>NaN</td>\n    </tr>\n    <tr>\n      <th>45804</th>\n      <td>2020-03-24</td>\n      <td>24</td>\n      <td>3</td>\n      <td>2020</td>\n      <td>0</td>\n      <td>1</td>\n      <td>Zimbabwe</td>\n      <td>ZW</td>\n      <td>ZWE</td>\n      <td>14645473.0</td>\n      <td>Africa</td>\n      <td>NaN</td>\n    </tr>\n    <tr>\n      <th>45805</th>\n      <td>2020-03-23</td>\n      <td>23</td>\n      <td>3</td>\n      <td>2020</td>\n      <td>0</td>\n      <td>0</td>\n      <td>Zimbabwe</td>\n      <td>ZW</td>\n      <td>ZWE</td>\n      <td>14645473.0</td>\n      <td>Africa</td>\n      <td>NaN</td>\n    </tr>\n    <tr>\n      <th>45806</th>\n      <td>2020-03-22</td>\n      <td>22</td>\n      <td>3</td>\n      <td>2020</td>\n      <td>1</td>\n      <td>0</td>\n      <td>Zimbabwe</td>\n      <td>ZW</td>\n      <td>ZWE</td>\n      <td>14645473.0</td>\n      <td>Africa</td>\n      <td>NaN</td>\n    </tr>\n    <tr>\n      <th>45807</th>\n      <td>2020-03-21</td>\n      <td>21</td>\n      <td>3</td>\n      <td>2020</td>\n      <td>1</td>\n      <td>0</td>\n      <td>Zimbabwe</td>\n      <td>ZW</td>\n      <td>ZWE</td>\n      <td>14645473.0</td>\n      <td>Africa</td>\n      <td>NaN</td>\n    </tr>\n  </tbody>\n</table>\n<p>45808 rows × 12 columns</p>\n</div>"
     },
     "metadata": {},
     "execution_count": 86
    }
   ],
   "source": [
    "df = pd.read_excel(r'C:\\Users\\aviparna.biswas\\PycharmProjects\\COVID-19\\COVID-19-geographic-disbtribution-worldwide.xlsx')\n",
    "df"
   ]
  },
  {
   "source": [
    "Step 2:Data Cleaning"
   ],
   "cell_type": "markdown",
   "metadata": {}
  },
  {
   "source": [
    "#Issue 1: Extra Columns"
   ],
   "cell_type": "markdown",
   "metadata": {}
  },
  {
   "cell_type": "code",
   "execution_count": 87,
   "metadata": {},
   "outputs": [
    {
     "output_type": "execute_result",
     "data": {
      "text/plain": "         dateRep  cases  deaths countriesAndTerritories  popData2019  \\\n0     2020-09-29     12       3             Afghanistan   38041757.0   \n1     2020-09-28      0       0             Afghanistan   38041757.0   \n2     2020-09-27     35       0             Afghanistan   38041757.0   \n3     2020-09-26      6       2             Afghanistan   38041757.0   \n4     2020-09-25     16       0             Afghanistan   38041757.0   \n...          ...    ...     ...                     ...          ...   \n45803 2020-03-25      0       0                Zimbabwe   14645473.0   \n45804 2020-03-24      0       1                Zimbabwe   14645473.0   \n45805 2020-03-23      0       0                Zimbabwe   14645473.0   \n45806 2020-03-22      1       0                Zimbabwe   14645473.0   \n45807 2020-03-21      1       0                Zimbabwe   14645473.0   \n\n      continentExp  Cumulative_number_for_14_days_of_COVID-19_cases_per_100000  \n0             Asia                                           1.114565           \n1             Asia                                           1.343261           \n2             Asia                                           1.540413           \n3             Asia                                           1.540413           \n4             Asia                                           1.614016           \n...            ...                                                ...           \n45803       Africa                                                NaN           \n45804       Africa                                                NaN           \n45805       Africa                                                NaN           \n45806       Africa                                                NaN           \n45807       Africa                                                NaN           \n\n[45808 rows x 7 columns]",
      "text/html": "<div>\n<style scoped>\n    .dataframe tbody tr th:only-of-type {\n        vertical-align: middle;\n    }\n\n    .dataframe tbody tr th {\n        vertical-align: top;\n    }\n\n    .dataframe thead th {\n        text-align: right;\n    }\n</style>\n<table border=\"1\" class=\"dataframe\">\n  <thead>\n    <tr style=\"text-align: right;\">\n      <th></th>\n      <th>dateRep</th>\n      <th>cases</th>\n      <th>deaths</th>\n      <th>countriesAndTerritories</th>\n      <th>popData2019</th>\n      <th>continentExp</th>\n      <th>Cumulative_number_for_14_days_of_COVID-19_cases_per_100000</th>\n    </tr>\n  </thead>\n  <tbody>\n    <tr>\n      <th>0</th>\n      <td>2020-09-29</td>\n      <td>12</td>\n      <td>3</td>\n      <td>Afghanistan</td>\n      <td>38041757.0</td>\n      <td>Asia</td>\n      <td>1.114565</td>\n    </tr>\n    <tr>\n      <th>1</th>\n      <td>2020-09-28</td>\n      <td>0</td>\n      <td>0</td>\n      <td>Afghanistan</td>\n      <td>38041757.0</td>\n      <td>Asia</td>\n      <td>1.343261</td>\n    </tr>\n    <tr>\n      <th>2</th>\n      <td>2020-09-27</td>\n      <td>35</td>\n      <td>0</td>\n      <td>Afghanistan</td>\n      <td>38041757.0</td>\n      <td>Asia</td>\n      <td>1.540413</td>\n    </tr>\n    <tr>\n      <th>3</th>\n      <td>2020-09-26</td>\n      <td>6</td>\n      <td>2</td>\n      <td>Afghanistan</td>\n      <td>38041757.0</td>\n      <td>Asia</td>\n      <td>1.540413</td>\n    </tr>\n    <tr>\n      <th>4</th>\n      <td>2020-09-25</td>\n      <td>16</td>\n      <td>0</td>\n      <td>Afghanistan</td>\n      <td>38041757.0</td>\n      <td>Asia</td>\n      <td>1.614016</td>\n    </tr>\n    <tr>\n      <th>...</th>\n      <td>...</td>\n      <td>...</td>\n      <td>...</td>\n      <td>...</td>\n      <td>...</td>\n      <td>...</td>\n      <td>...</td>\n    </tr>\n    <tr>\n      <th>45803</th>\n      <td>2020-03-25</td>\n      <td>0</td>\n      <td>0</td>\n      <td>Zimbabwe</td>\n      <td>14645473.0</td>\n      <td>Africa</td>\n      <td>NaN</td>\n    </tr>\n    <tr>\n      <th>45804</th>\n      <td>2020-03-24</td>\n      <td>0</td>\n      <td>1</td>\n      <td>Zimbabwe</td>\n      <td>14645473.0</td>\n      <td>Africa</td>\n      <td>NaN</td>\n    </tr>\n    <tr>\n      <th>45805</th>\n      <td>2020-03-23</td>\n      <td>0</td>\n      <td>0</td>\n      <td>Zimbabwe</td>\n      <td>14645473.0</td>\n      <td>Africa</td>\n      <td>NaN</td>\n    </tr>\n    <tr>\n      <th>45806</th>\n      <td>2020-03-22</td>\n      <td>1</td>\n      <td>0</td>\n      <td>Zimbabwe</td>\n      <td>14645473.0</td>\n      <td>Africa</td>\n      <td>NaN</td>\n    </tr>\n    <tr>\n      <th>45807</th>\n      <td>2020-03-21</td>\n      <td>1</td>\n      <td>0</td>\n      <td>Zimbabwe</td>\n      <td>14645473.0</td>\n      <td>Africa</td>\n      <td>NaN</td>\n    </tr>\n  </tbody>\n</table>\n<p>45808 rows × 7 columns</p>\n</div>"
     },
     "metadata": {},
     "execution_count": 87
    }
   ],
   "source": [
    "target_df = df.drop(['day','month','year','geoId','countryterritoryCode'],1)\n",
    "target_df"
   ]
  },
  {
   "source": [
    "#Issue 2: Rename columns"
   ],
   "cell_type": "markdown",
   "metadata": {}
  },
  {
   "cell_type": "code",
   "execution_count": 88,
   "metadata": {},
   "outputs": [],
   "source": [
    "target_df_new = target_df.rename(columns={'dateRep':'Date','cases':'Cases','deaths':'Deaths','countriesAndTerritories':'Countries','popData2019':'Population','continentExp':'Continent','Cumulative_number_for_14_days_of_COVID-19_cases_per_100000':'Cumulative Data'})"
   ]
  },
  {
   "cell_type": "code",
   "execution_count": 89,
   "metadata": {},
   "outputs": [
    {
     "output_type": "execute_result",
     "data": {
      "text/plain": "            Date  Cases  Deaths    Countries  Population Continent  \\\n0     2020-09-29     12       3  Afghanistan  38041757.0      Asia   \n1     2020-09-28      0       0  Afghanistan  38041757.0      Asia   \n2     2020-09-27     35       0  Afghanistan  38041757.0      Asia   \n3     2020-09-26      6       2  Afghanistan  38041757.0      Asia   \n4     2020-09-25     16       0  Afghanistan  38041757.0      Asia   \n...          ...    ...     ...          ...         ...       ...   \n45803 2020-03-25      0       0     Zimbabwe  14645473.0    Africa   \n45804 2020-03-24      0       1     Zimbabwe  14645473.0    Africa   \n45805 2020-03-23      0       0     Zimbabwe  14645473.0    Africa   \n45806 2020-03-22      1       0     Zimbabwe  14645473.0    Africa   \n45807 2020-03-21      1       0     Zimbabwe  14645473.0    Africa   \n\n       Cumulative Data  \n0             1.114565  \n1             1.343261  \n2             1.540413  \n3             1.540413  \n4             1.614016  \n...                ...  \n45803              NaN  \n45804              NaN  \n45805              NaN  \n45806              NaN  \n45807              NaN  \n\n[45808 rows x 7 columns]",
      "text/html": "<div>\n<style scoped>\n    .dataframe tbody tr th:only-of-type {\n        vertical-align: middle;\n    }\n\n    .dataframe tbody tr th {\n        vertical-align: top;\n    }\n\n    .dataframe thead th {\n        text-align: right;\n    }\n</style>\n<table border=\"1\" class=\"dataframe\">\n  <thead>\n    <tr style=\"text-align: right;\">\n      <th></th>\n      <th>Date</th>\n      <th>Cases</th>\n      <th>Deaths</th>\n      <th>Countries</th>\n      <th>Population</th>\n      <th>Continent</th>\n      <th>Cumulative Data</th>\n    </tr>\n  </thead>\n  <tbody>\n    <tr>\n      <th>0</th>\n      <td>2020-09-29</td>\n      <td>12</td>\n      <td>3</td>\n      <td>Afghanistan</td>\n      <td>38041757.0</td>\n      <td>Asia</td>\n      <td>1.114565</td>\n    </tr>\n    <tr>\n      <th>1</th>\n      <td>2020-09-28</td>\n      <td>0</td>\n      <td>0</td>\n      <td>Afghanistan</td>\n      <td>38041757.0</td>\n      <td>Asia</td>\n      <td>1.343261</td>\n    </tr>\n    <tr>\n      <th>2</th>\n      <td>2020-09-27</td>\n      <td>35</td>\n      <td>0</td>\n      <td>Afghanistan</td>\n      <td>38041757.0</td>\n      <td>Asia</td>\n      <td>1.540413</td>\n    </tr>\n    <tr>\n      <th>3</th>\n      <td>2020-09-26</td>\n      <td>6</td>\n      <td>2</td>\n      <td>Afghanistan</td>\n      <td>38041757.0</td>\n      <td>Asia</td>\n      <td>1.540413</td>\n    </tr>\n    <tr>\n      <th>4</th>\n      <td>2020-09-25</td>\n      <td>16</td>\n      <td>0</td>\n      <td>Afghanistan</td>\n      <td>38041757.0</td>\n      <td>Asia</td>\n      <td>1.614016</td>\n    </tr>\n    <tr>\n      <th>...</th>\n      <td>...</td>\n      <td>...</td>\n      <td>...</td>\n      <td>...</td>\n      <td>...</td>\n      <td>...</td>\n      <td>...</td>\n    </tr>\n    <tr>\n      <th>45803</th>\n      <td>2020-03-25</td>\n      <td>0</td>\n      <td>0</td>\n      <td>Zimbabwe</td>\n      <td>14645473.0</td>\n      <td>Africa</td>\n      <td>NaN</td>\n    </tr>\n    <tr>\n      <th>45804</th>\n      <td>2020-03-24</td>\n      <td>0</td>\n      <td>1</td>\n      <td>Zimbabwe</td>\n      <td>14645473.0</td>\n      <td>Africa</td>\n      <td>NaN</td>\n    </tr>\n    <tr>\n      <th>45805</th>\n      <td>2020-03-23</td>\n      <td>0</td>\n      <td>0</td>\n      <td>Zimbabwe</td>\n      <td>14645473.0</td>\n      <td>Africa</td>\n      <td>NaN</td>\n    </tr>\n    <tr>\n      <th>45806</th>\n      <td>2020-03-22</td>\n      <td>1</td>\n      <td>0</td>\n      <td>Zimbabwe</td>\n      <td>14645473.0</td>\n      <td>Africa</td>\n      <td>NaN</td>\n    </tr>\n    <tr>\n      <th>45807</th>\n      <td>2020-03-21</td>\n      <td>1</td>\n      <td>0</td>\n      <td>Zimbabwe</td>\n      <td>14645473.0</td>\n      <td>Africa</td>\n      <td>NaN</td>\n    </tr>\n  </tbody>\n</table>\n<p>45808 rows × 7 columns</p>\n</div>"
     },
     "metadata": {},
     "execution_count": 89
    }
   ],
   "source": [
    "target_df_new"
   ]
  },
  {
   "source": [
    "#Issue 3: Extra Value (No data) in Cumulative column "
   ],
   "cell_type": "markdown",
   "metadata": {}
  },
  {
   "cell_type": "code",
   "execution_count": 91,
   "metadata": {},
   "outputs": [],
   "source": [
    "target_df_new['Cumulative Data'] = target_df_new['Cumulative Data'].astype(str).str.replace('NaN','0')"
   ]
  },
  {
   "cell_type": "code",
   "execution_count": 92,
   "metadata": {},
   "outputs": [
    {
     "output_type": "execute_result",
     "data": {
      "text/plain": "            Date  Cases  Deaths    Countries  Population Continent  \\\n0     2020-09-29     12       3  Afghanistan  38041757.0      Asia   \n1     2020-09-28      0       0  Afghanistan  38041757.0      Asia   \n2     2020-09-27     35       0  Afghanistan  38041757.0      Asia   \n3     2020-09-26      6       2  Afghanistan  38041757.0      Asia   \n4     2020-09-25     16       0  Afghanistan  38041757.0      Asia   \n...          ...    ...     ...          ...         ...       ...   \n45803 2020-03-25      0       0     Zimbabwe  14645473.0    Africa   \n45804 2020-03-24      0       1     Zimbabwe  14645473.0    Africa   \n45805 2020-03-23      0       0     Zimbabwe  14645473.0    Africa   \n45806 2020-03-22      1       0     Zimbabwe  14645473.0    Africa   \n45807 2020-03-21      1       0     Zimbabwe  14645473.0    Africa   \n\n      Cumulative Data  \n0          1.11456471  \n1          1.34326078  \n2          1.54041255  \n3          1.54041255  \n4          1.61401588  \n...               ...  \n45803             nan  \n45804             nan  \n45805             nan  \n45806             nan  \n45807             nan  \n\n[45808 rows x 7 columns]",
      "text/html": "<div>\n<style scoped>\n    .dataframe tbody tr th:only-of-type {\n        vertical-align: middle;\n    }\n\n    .dataframe tbody tr th {\n        vertical-align: top;\n    }\n\n    .dataframe thead th {\n        text-align: right;\n    }\n</style>\n<table border=\"1\" class=\"dataframe\">\n  <thead>\n    <tr style=\"text-align: right;\">\n      <th></th>\n      <th>Date</th>\n      <th>Cases</th>\n      <th>Deaths</th>\n      <th>Countries</th>\n      <th>Population</th>\n      <th>Continent</th>\n      <th>Cumulative Data</th>\n    </tr>\n  </thead>\n  <tbody>\n    <tr>\n      <th>0</th>\n      <td>2020-09-29</td>\n      <td>12</td>\n      <td>3</td>\n      <td>Afghanistan</td>\n      <td>38041757.0</td>\n      <td>Asia</td>\n      <td>1.11456471</td>\n    </tr>\n    <tr>\n      <th>1</th>\n      <td>2020-09-28</td>\n      <td>0</td>\n      <td>0</td>\n      <td>Afghanistan</td>\n      <td>38041757.0</td>\n      <td>Asia</td>\n      <td>1.34326078</td>\n    </tr>\n    <tr>\n      <th>2</th>\n      <td>2020-09-27</td>\n      <td>35</td>\n      <td>0</td>\n      <td>Afghanistan</td>\n      <td>38041757.0</td>\n      <td>Asia</td>\n      <td>1.54041255</td>\n    </tr>\n    <tr>\n      <th>3</th>\n      <td>2020-09-26</td>\n      <td>6</td>\n      <td>2</td>\n      <td>Afghanistan</td>\n      <td>38041757.0</td>\n      <td>Asia</td>\n      <td>1.54041255</td>\n    </tr>\n    <tr>\n      <th>4</th>\n      <td>2020-09-25</td>\n      <td>16</td>\n      <td>0</td>\n      <td>Afghanistan</td>\n      <td>38041757.0</td>\n      <td>Asia</td>\n      <td>1.61401588</td>\n    </tr>\n    <tr>\n      <th>...</th>\n      <td>...</td>\n      <td>...</td>\n      <td>...</td>\n      <td>...</td>\n      <td>...</td>\n      <td>...</td>\n      <td>...</td>\n    </tr>\n    <tr>\n      <th>45803</th>\n      <td>2020-03-25</td>\n      <td>0</td>\n      <td>0</td>\n      <td>Zimbabwe</td>\n      <td>14645473.0</td>\n      <td>Africa</td>\n      <td>nan</td>\n    </tr>\n    <tr>\n      <th>45804</th>\n      <td>2020-03-24</td>\n      <td>0</td>\n      <td>1</td>\n      <td>Zimbabwe</td>\n      <td>14645473.0</td>\n      <td>Africa</td>\n      <td>nan</td>\n    </tr>\n    <tr>\n      <th>45805</th>\n      <td>2020-03-23</td>\n      <td>0</td>\n      <td>0</td>\n      <td>Zimbabwe</td>\n      <td>14645473.0</td>\n      <td>Africa</td>\n      <td>nan</td>\n    </tr>\n    <tr>\n      <th>45806</th>\n      <td>2020-03-22</td>\n      <td>1</td>\n      <td>0</td>\n      <td>Zimbabwe</td>\n      <td>14645473.0</td>\n      <td>Africa</td>\n      <td>nan</td>\n    </tr>\n    <tr>\n      <th>45807</th>\n      <td>2020-03-21</td>\n      <td>1</td>\n      <td>0</td>\n      <td>Zimbabwe</td>\n      <td>14645473.0</td>\n      <td>Africa</td>\n      <td>nan</td>\n    </tr>\n  </tbody>\n</table>\n<p>45808 rows × 7 columns</p>\n</div>"
     },
     "metadata": {},
     "execution_count": 92
    }
   ],
   "source": [
    "target_df_new"
   ]
  },
  {
   "source": [
    "#Step 3: Export the data"
   ],
   "cell_type": "markdown",
   "metadata": {}
  },
  {
   "cell_type": "code",
   "execution_count": 94,
   "metadata": {},
   "outputs": [],
   "source": [
    "target_df_new.to_csv(r'C:\\Users\\aviparna.biswas\\PycharmProjects\\COVID-19\\COVID_19_dataset.csv')"
   ]
  },
  {
   "cell_type": "code",
   "execution_count": null,
   "metadata": {},
   "outputs": [],
   "source": []
  }
 ]
}